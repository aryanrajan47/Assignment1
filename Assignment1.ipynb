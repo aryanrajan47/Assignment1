{
 "cells": [
  {
   "cell_type": "code",
   "execution_count": 1,
   "id": "927123d8-173f-4cfe-8e4c-bfc46861020c",
   "metadata": {},
   "outputs": [
    {
     "data": {
      "text/plain": [
       "' \\n    1. Explain with an example each when to use a for loop and a while loop.\\n  Ans. For loop is used when  you konw the number of iterations ahead of time.\\n       While loop is used when you do not know the number of iterations ahead of time.\\n'"
      ]
     },
     "execution_count": 1,
     "metadata": {},
     "output_type": "execute_result"
    }
   ],
   "source": [
    "''' \n",
    "    1. Explain with an example each when to use a for loop and a while loop.\n",
    "  Ans. For loop is used when  you konw the number of iterations ahead of time.\n",
    "       While loop is used when you do not know the number of iterations ahead of time.\n",
    "'''"
   ]
  },
  {
   "cell_type": "code",
   "execution_count": 5,
   "id": "3a768ecb-8cba-428d-b175-06486a94086d",
   "metadata": {},
   "outputs": [
    {
     "name": "stdout",
     "output_type": "stream",
     "text": [
      "Sum is : 55\n",
      "Product is : 3628800\n"
     ]
    }
   ],
   "source": [
    "# Write a program to print the sum and product of the first 10 natural numbers using for loop.\n",
    "\n",
    "summ = 0\n",
    "product = 1\n",
    "\n",
    "for i in range(1,11):\n",
    "    summ = summ + i\n",
    "    product = product * i\n",
    "    \n",
    "print(\"Sum is :\",summ)\n",
    "print(\"Product is :\",product)\n"
   ]
  },
  {
   "cell_type": "code",
   "execution_count": 10,
   "id": "47aee532-d89c-4ae2-9642-094a1c9979b7",
   "metadata": {},
   "outputs": [
    {
     "name": "stdout",
     "output_type": "stream",
     "text": [
      "Sum is : 55\n",
      "Product is : 3628800\n"
     ]
    }
   ],
   "source": [
    "# Write a program to print the sum and product of the first 10 natural numbers using for loop.\n",
    "\n",
    "summ = 0\n",
    "product = 1\n",
    "i = 1\n",
    "\n",
    "while(i<=10):\n",
    "    summ = summ + i\n",
    "    product = product * i\n",
    "    i = i + 1\n",
    "    \n",
    "print(\"Sum is :\",summ)\n",
    "print(\"Product is :\",product)\n"
   ]
  },
  {
   "cell_type": "code",
   "execution_count": 9,
   "id": "cd1a8c5d-e6f3-4c7a-b86f-ed9399501c40",
   "metadata": {},
   "outputs": [
    {
     "name": "stdin",
     "output_type": "stream",
     "text": [
      "Enter the number of unit 310\n"
     ]
    },
    {
     "name": "stdout",
     "output_type": "stream",
     "text": [
      "User will be charged  2250.0\n"
     ]
    }
   ],
   "source": [
    "# Create a program to compute the electricity bill for a household.\n",
    "\n",
    "units = int(input(\"Enter the number of unit\"))\n",
    "\n",
    "if ( units <=100 ):\n",
    "    print(\"User will be charged \",units * 4.5) \n",
    "    \n",
    "elif ( units > 100 and units <=200 ):\n",
    "    a = units % 100\n",
    "    print(\"User will be charged \",(100 * 4.5) + (a *6))\n",
    "    \n",
    "elif ( units > 200 and units <= 300 ):\n",
    "    b = units % 100\n",
    "    print(\"User will be charged \",(100*4.5) + (100*6) + (b*10))\n",
    "    \n",
    "else:\n",
    "    c = units % 100\n",
    "    print(\"User will be charged \",(100*4.5) + (100*6) + (100*10) + (c*20))\n",
    "    "
   ]
  },
  {
   "cell_type": "code",
   "execution_count": 18,
   "id": "e740eb96-0b57-4f26-894f-cee3416c08d5",
   "metadata": {},
   "outputs": [
    {
     "name": "stdout",
     "output_type": "stream",
     "text": [
      "1\n",
      "8\n",
      "27\n",
      "64\n",
      "125\n",
      "216\n",
      "343\n",
      "512\n",
      "729\n",
      "1000\n",
      "1331\n",
      "1728\n",
      "2197\n",
      "2744\n",
      "3375\n",
      "4096\n",
      "4913\n",
      "5832\n",
      "6859\n",
      "8000\n",
      "9261\n",
      "10648\n",
      "12167\n",
      "13824\n",
      "15625\n",
      "17576\n",
      "19683\n",
      "21952\n",
      "24389\n",
      "27000\n",
      "29791\n",
      "32768\n",
      "35937\n",
      "39304\n",
      "42875\n",
      "46656\n",
      "50653\n",
      "54872\n",
      "59319\n",
      "64000\n",
      "68921\n",
      "74088\n",
      "79507\n",
      "85184\n",
      "91125\n",
      "97336\n",
      "103823\n",
      "110592\n",
      "117649\n",
      "125000\n",
      "132651\n",
      "140608\n",
      "148877\n",
      "157464\n",
      "166375\n",
      "175616\n",
      "185193\n",
      "195112\n",
      "205379\n",
      "216000\n",
      "226981\n",
      "238328\n",
      "250047\n",
      "262144\n",
      "274625\n",
      "287496\n",
      "300763\n",
      "314432\n",
      "328509\n",
      "343000\n",
      "357911\n",
      "373248\n",
      "389017\n",
      "405224\n",
      "421875\n",
      "438976\n",
      "456533\n",
      "474552\n",
      "493039\n",
      "512000\n",
      "531441\n",
      "551368\n",
      "571787\n",
      "592704\n",
      "614125\n",
      "636056\n",
      "658503\n",
      "681472\n",
      "704969\n",
      "729000\n",
      "753571\n",
      "778688\n",
      "804357\n",
      "830584\n",
      "857375\n",
      "884736\n",
      "912673\n",
      "941192\n",
      "970299\n",
      "1000000\n"
     ]
    },
    {
     "data": {
      "text/plain": [
       "[8,\n",
       " 64,\n",
       " 125,\n",
       " 216,\n",
       " 512,\n",
       " 1000,\n",
       " 1728,\n",
       " 2744,\n",
       " 3375,\n",
       " 4096,\n",
       " 5832,\n",
       " 8000,\n",
       " 10648,\n",
       " 13824,\n",
       " 15625,\n",
       " 17576,\n",
       " 21952,\n",
       " 27000,\n",
       " 32768,\n",
       " 39304,\n",
       " 42875,\n",
       " 46656,\n",
       " 54872,\n",
       " 64000,\n",
       " 74088,\n",
       " 85184,\n",
       " 91125,\n",
       " 97336,\n",
       " 110592,\n",
       " 125000,\n",
       " 140608,\n",
       " 157464,\n",
       " 166375,\n",
       " 175616,\n",
       " 195112,\n",
       " 216000,\n",
       " 238328,\n",
       " 262144,\n",
       " 274625,\n",
       " 287496,\n",
       " 314432,\n",
       " 343000,\n",
       " 373248,\n",
       " 405224,\n",
       " 421875,\n",
       " 438976,\n",
       " 474552,\n",
       " 512000,\n",
       " 551368,\n",
       " 592704,\n",
       " 614125,\n",
       " 636056,\n",
       " 681472,\n",
       " 729000,\n",
       " 778688,\n",
       " 830584,\n",
       " 857375,\n",
       " 884736,\n",
       " 941192,\n",
       " 1000000]"
      ]
     },
     "execution_count": 18,
     "metadata": {},
     "output_type": "execute_result"
    }
   ],
   "source": [
    "# Question 4\n",
    "\n",
    "li = list(range(1,101))\n",
    "new_list = []\n",
    "\n",
    "for i in li:\n",
    "    i3 = i*i*i\n",
    "    print(i3)\n",
    "    if ( i3 % 4 == 0 or i3 % 5 ==0 ):  \n",
    "        new_list.append(i3)\n",
    "        \n",
    "new_list\n",
    "        "
   ]
  },
  {
   "cell_type": "code",
   "execution_count": 23,
   "id": "cfbcdd09-b928-4223-b36a-8fdda444bdd4",
   "metadata": {},
   "outputs": [
    {
     "name": "stdout",
     "output_type": "stream",
     "text": [
      "12\n"
     ]
    }
   ],
   "source": [
    "# Question 5\n",
    "\n",
    "string = \"i want to become a data scientist\"\n",
    "\n",
    "len(string)\n",
    "countt = 0\n",
    "\n",
    "for i in range(33):\n",
    "    if ( string[i] == \"a\" or string[i] == \"e\" or string[i] == \"i\" or string[i] == \"o\" or string[i] == \"u\" ): \n",
    "        countt = countt + 1\n",
    "        \n",
    "print(countt)\n"
   ]
  }
 ],
 "metadata": {
  "kernelspec": {
   "display_name": "Python 3 (ipykernel)",
   "language": "python",
   "name": "python3"
  },
  "language_info": {
   "codemirror_mode": {
    "name": "ipython",
    "version": 3
   },
   "file_extension": ".py",
   "mimetype": "text/x-python",
   "name": "python",
   "nbconvert_exporter": "python",
   "pygments_lexer": "ipython3",
   "version": "3.10.8"
  }
 },
 "nbformat": 4,
 "nbformat_minor": 5
}
